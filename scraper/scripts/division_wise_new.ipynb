{
 "cells": [
  {
   "cell_type": "code",
   "execution_count": 1,
   "id": "9618d5e2",
   "metadata": {},
   "outputs": [],
   "source": [
    "from WebDriver import WebDriver\n",
    "from Utils import SeleniumScrappingUtils\n",
    "from selenium import webdriver \n",
    "import os\n",
    "import pandas as pd\n",
    "import pdb\n",
    "from requests import get\n",
    "import pickle\n",
    "import time"
   ]
  },
  {
   "cell_type": "code",
   "execution_count": 2,
   "id": "3516bb54",
   "metadata": {},
   "outputs": [
    {
     "name": "stderr",
     "output_type": "stream",
     "text": [
      "/var/folders/pr/cgzvhg3912ndvzh32qyjbt4w0000gn/T/ipykernel_84392/3509639385.py:26: DeprecationWarning: find_elements_by_xpath is deprecated. Please use find_elements(by=By.XPATH, value=xpath) instead\n",
      "  schemes_click = table_scheme_code.find_elements_by_xpath('//a[@href]')\n",
      "/var/folders/pr/cgzvhg3912ndvzh32qyjbt4w0000gn/T/ipykernel_84392/3509639385.py:38: DeprecationWarning: find_elements_by_xpath is deprecated. Please use find_elements(by=By.XPATH, value=xpath) instead\n",
      "  grants_click = table_grants.find_elements_by_xpath('//a[@href]')\n"
     ]
    },
    {
     "ename": "FileNotFoundError",
     "evalue": "[Errno 2] No such file or directory: 'division_wise_expenditure_data/'",
     "output_type": "error",
     "traceback": [
      "\u001b[0;31m---------------------------------------------------------------------------\u001b[0m",
      "\u001b[0;31mFileNotFoundError\u001b[0m                         Traceback (most recent call last)",
      "\u001b[1;32m/Users/shreyaagrawal/Documents/Cdl/fiscal-force/girls_education_haq/scraper/scripts/division_wise_new.ipynb Cell 2'\u001b[0m in \u001b[0;36m<cell line: 20>\u001b[0;34m()\u001b[0m\n\u001b[1;32m     <a href='vscode-notebook-cell:/Users/shreyaagrawal/Documents/Cdl/fiscal-force/girls_education_haq/scraper/scripts/division_wise_new.ipynb#ch0000001?line=17'>18</a>\u001b[0m division_name \u001b[39m=\u001b[39m [division_selection_name\u001b[39m.\u001b[39mtext \u001b[39mfor\u001b[39;00m division_selection_name \u001b[39min\u001b[39;00m division_selection]\n\u001b[1;32m     <a href='vscode-notebook-cell:/Users/shreyaagrawal/Documents/Cdl/fiscal-force/girls_education_haq/scraper/scripts/division_wise_new.ipynb#ch0000001?line=19'>20</a>\u001b[0m \u001b[39mfor\u001b[39;00m index_division,i \u001b[39min\u001b[39;00m \u001b[39menumerate\u001b[39m(division_selection):\n\u001b[0;32m---> <a href='vscode-notebook-cell:/Users/shreyaagrawal/Documents/Cdl/fiscal-force/girls_education_haq/scraper/scripts/division_wise_new.ipynb#ch0000001?line=20'>21</a>\u001b[0m     os\u001b[39m.\u001b[39;49mchdir(\u001b[39m'\u001b[39;49m\u001b[39mdivision_wise_expenditure_data/\u001b[39;49m\u001b[39m'\u001b[39;49m)\n\u001b[1;32m     <a href='vscode-notebook-cell:/Users/shreyaagrawal/Documents/Cdl/fiscal-force/girls_education_haq/scraper/scripts/division_wise_new.ipynb#ch0000001?line=21'>22</a>\u001b[0m     browser\u001b[39m.\u001b[39mdriver\u001b[39m.\u001b[39mget(links_division[index_division])\n\u001b[1;32m     <a href='vscode-notebook-cell:/Users/shreyaagrawal/Documents/Cdl/fiscal-force/girls_education_haq/scraper/scripts/division_wise_new.ipynb#ch0000001?line=23'>24</a>\u001b[0m     table_scheme_code\u001b[39m=\u001b[39m SeleniumScrappingUtils\u001b[39m.\u001b[39mget_page_element(browser,\u001b[39m'\u001b[39m\u001b[39m//*[@id=\u001b[39m\u001b[39m\"\u001b[39m\u001b[39mmyTable\u001b[39m\u001b[39m\"\u001b[39m\u001b[39m]\u001b[39m\u001b[39m'\u001b[39m)\n",
      "\u001b[0;31mFileNotFoundError\u001b[0m: [Errno 2] No such file or directory: 'division_wise_expenditure_data/'"
     ]
    }
   ],
   "source": [
    "# defining fiscal year and base folder to download data in\n",
    "fiscal_year = '2022-2023'\n",
    " \n",
    "def change_year(fiscal_year,xpath):\n",
    "    select_fiscal_year = SeleniumScrappingUtils.get_page_element(browser,xpath)\n",
    "    SeleniumScrappingUtils.select_element(select_fiscal_year,fiscal_year)\n",
    "# setting up chrome driver\n",
    "options = webdriver.ChromeOptions()\n",
    "browser = WebDriver(\"/Users/shreyaagrawal/Downloads/chromedriver-3\")\n",
    "browser.driver.get(\"https://koshvani.up.nic.in/KoshvaniStatic.aspx\")\n",
    "SeleniumScrappingUtils.get_page_element(browser,'//*[@id=\"popup\"]/div[2]/button').click()\n",
    "change_year(fiscal_year,'//*[@id=\"ddlFinYear\"]')\n",
    "# SeleniumScrappingUtils.get_page_element(browser,'//*[@id=\"popup\"]/div[2]/button').click()\n",
    "division_wise_element = SeleniumScrappingUtils.get_page_element(browser,'//*[@id=\"dvWrapper\"]/div[3]/div[1]/div[1]/div[2]/ul/li[7]/a')\n",
    "division_wise_element.click()\n",
    "division_selection = SeleniumScrappingUtils.get_multiple_page_elements(browser,'//*[@id=\"myTable\"]/tbody/tr/td[2]/span/a')[55:]\n",
    "links_division = [division_selection[division_selection_element].get_attribute('href') for division_selection_element in range(len(division_selection))]\n",
    "division_name = [division_selection_name.text for division_selection_name in division_selection]\n",
    "\n",
    "for index_division,i in enumerate(division_selection):\n",
    "    os.chdir('division_wise_expenditure_data/')\n",
    "    browser.driver.get(links_division[index_division])\n",
    "            \n",
    "    table_scheme_code= SeleniumScrappingUtils.get_page_element(browser,'//*[@id=\"myTable\"]')\n",
    "    # SeleniumScrappingUtils.extract_vertical_table(table_scheme_code,\"scheme_code\")\n",
    "    schemes_click = table_scheme_code.find_elements_by_xpath('//a[@href]')\n",
    "\n",
    "    links_scheme = [schemes_click[i].get_attribute('href') for i in range(len(schemes_click))]\n",
    "    links_name  = [schemes_click[i].text for i in range(len(schemes_click))][1:-2]\n",
    "    links_name = [w.replace('/', '-') for w in links_name]\n",
    "\n",
    "    for index,link in enumerate(links_scheme[1:-2]):\n",
    "        os.chdir('grant_wise_data/')\n",
    "        browser.driver.get(link)\n",
    "        try:\n",
    "            table_grants = SeleniumScrappingUtils.get_page_element(browser,'//*[@id=\"form1\"]/div[3]/div/div/div/center/div/table/tbody/tr[4]/td/div')\n",
    "            # SeleniumScrappingUtils.extract_vertical_table(table_grants,links_name[index]+\"$\"+division_name[index_division])\n",
    "            grants_click = table_grants.find_elements_by_xpath('//a[@href]')\n",
    "\n",
    "            links_grants = [grants_click[i].get_attribute('href') for i in range(len(grants_click))]\n",
    "            links_grants_name = [grants_click[i].text for i in range(len(grants_click))][1:]\n",
    "            links_grants_name = [w.replace('/', '-') for w in links_grants_name]\n",
    "        except:\n",
    "            browser.driver.get(\"https://koshvani.up.nic.in/KoshvaniStatic.aspx\")\n",
    "            SeleniumScrappingUtils.get_page_element(browser,'//*[@id=\"popup\"]/div[2]/button').click()\n",
    "            # change_year(fiscal_year,'//*[@id=\"ddlFinYear\"]')\n",
    "            # SeleniumScrappingUtils.get_page_element(browser,'//*[@id=\"popup\"]/div[2]/button').click()\n",
    "            continue\n",
    "        for index_grants,link_grant in enumerate(links_grants[1:-2]):\n",
    "            browser.driver.get(link_grant)\n",
    "            os.chdir('../scheme-wise-data/')\n",
    "            try:\n",
    "                table_voucher = SeleniumScrappingUtils.get_page_element(\n",
    "                browser,\n",
    "                '//*[@id=\"myTable\"]'\n",
    "                )\n",
    "\n",
    "                SeleniumScrappingUtils.extract_vertical_table(\n",
    "                table_voucher,\n",
    "                \"{}${}${}\".format(links_name[index],links_grants_name[index_grants],division_name[index_division])\n",
    "                )\n",
    "            except:\n",
    "                browser.driver.get(\"https://koshvani.up.nic.in/KoshvaniStatic.aspx\")\n",
    "                SeleniumScrappingUtils.get_page_element(browser,'//*[@id=\"popup\"]/div[2]/button').click()\n",
    "                # change_year(fiscal_year,'//*[@id=\"ddlFinYear\"]')\n",
    "                # SeleniumScrappingUtils.get_page_element(browser,'//*[@id=\"popup\"]/div[2]/button').click()\n",
    "                continue\n",
    "        os.chdir('../../division_wise_expenditure_data/')\n",
    "    os.chdir('../../../scripts/')"
   ]
  },
  {
   "cell_type": "code",
   "execution_count": null,
   "id": "bb24282e",
   "metadata": {},
   "outputs": [],
   "source": []
  }
 ],
 "metadata": {
  "interpreter": {
   "hash": "b0fa6594d8f4cbf19f97940f81e996739fb7646882a419484c72d19e05852a7e"
  },
  "kernelspec": {
   "display_name": "Python 3 (ipykernel)",
   "language": "python",
   "name": "python3"
  },
  "language_info": {
   "codemirror_mode": {
    "name": "ipython",
    "version": 3
   },
   "file_extension": ".py",
   "mimetype": "text/x-python",
   "name": "python",
   "nbconvert_exporter": "python",
   "pygments_lexer": "ipython3",
   "version": "3.9.13"
  }
 },
 "nbformat": 4,
 "nbformat_minor": 5
}
